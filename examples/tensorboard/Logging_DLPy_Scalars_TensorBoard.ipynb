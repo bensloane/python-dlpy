{
 "cells": [
  {
   "cell_type": "markdown",
   "metadata": {},
   "source": [
    "# Logging DLPy Scalar Statistics in TensorBoard\n",
    "This notebook shows how to use the TensorBoard API in DLPy to track scalar statistics from the model training process. Using [TensorBoard](https://www.tensorflow.org/tensorboard) can help organize experiments, provide real-time updates on training progression, graph visualization, and more. You can use TensorBoard in the browser as well as inside a Jupyter Notebook. Here we show how to use the tensorboard magic to surface the application inside the notebook.\n",
    "\n",
    "To run this example, make sure to install TensorFlow 2.0 and Jupyter. Preferably use a virtual environment with a fresh install of all the needed dependencies. Follow instructions [here](https://www.tensorflow.org/install/pip) for TensorFlow installation. See [here](https://www.tensorflow.org/tensorboard/tensorboard_in_notebooks) for more information on TensorBoard integration with Jupyter."
   ]
  },
  {
   "cell_type": "code",
   "execution_count": null,
   "metadata": {},
   "outputs": [],
   "source": [
    "# Load the TensorBoard notebook extension\n",
    "%load_ext tensorboard\n",
    "\n",
    "import warnings\n",
    "warnings.simplefilter(action='ignore', category=FutureWarning)\n",
    "\n",
    "import tensorflow as tf\n",
    "print('TensorFlow version - ', tf.__version__)\n",
    "\n",
    "import swat\n",
    "import dlpy\n",
    "from dlpy import Sequential\n",
    "from dlpy.splitting import two_way_split\n",
    "from dlpy.images import ImageTable\n",
    "from dlpy.tensorboard import TensorBoard\n",
    "from dlpy.model import *\n",
    "from dlpy.layers import * \n",
    "from dlpy.applications import *\n",
    "from dlpy.tensorboard import TensorBoard\n",
    "\n",
    "DLPY_DATA_DIR = './python-dlpy/dlpy/tests/datasources/'"
   ]
  },
  {
   "cell_type": "markdown",
   "metadata": {},
   "source": [
    "## Connect to CAS and Load Data"
   ]
  },
  {
   "cell_type": "code",
   "execution_count": null,
   "metadata": {},
   "outputs": [],
   "source": [
    "s = swat.CAS('host_name', port_number)\n",
    "images = ImageTable.load_files(s, path=DLPY_DATA_DIR + 'giraffe_dolphin_small')\n",
    "train, test = two_way_split(images)\n",
    "train.resize(224, 224, inplace=True)\n",
    "test.resize(224, 224, inplace=True)"
   ]
  },
  {
   "cell_type": "code",
   "execution_count": null,
   "metadata": {},
   "outputs": [],
   "source": [
    "train.label_freq"
   ]
  },
  {
   "cell_type": "code",
   "execution_count": null,
   "metadata": {},
   "outputs": [],
   "source": [
    "test.label_freq"
   ]
  },
  {
   "cell_type": "markdown",
   "metadata": {},
   "source": [
    "## Build Model"
   ]
  },
  {
   "cell_type": "code",
   "execution_count": null,
   "metadata": {},
   "outputs": [],
   "source": [
    "model1 = Sequential(s, model_table='Simple_CNN1')\n",
    "model1.add(InputLayer(3, 224, 224))\n",
    "model1.add(Conv2d(8, 7))\n",
    "model1.add(Pooling(2))\n",
    "model1.add(Conv2d(8, 7))\n",
    "model1.add(Pooling(2))\n",
    "model1.add(Dense(16))\n",
    "model1.add(OutputLayer(act='softmax', n=2))"
   ]
  },
  {
   "cell_type": "markdown",
   "metadata": {},
   "source": [
    "## Launch TensorBoard\n",
    "The following cell uses the `%tensorboard` magic to launch the TensorBoard application inside the output window of the executed cell. At minimum you must pass the `logdir` parameter to `tensorboard`. This provides a directory to write log files to and tells the application where to read the corresponding files from. Below we set our logdir to the `./data` directory.\n",
    "\n",
    "If you prefer to use TensorBoard as a standalone application, outside of Jupyter, you can run the below command on the command line and access the web application on the assigned port (usually 6006). "
   ]
  },
  {
   "cell_type": "code",
   "execution_count": null,
   "metadata": {},
   "outputs": [],
   "source": [
    "%tensorboard --logdir './data/'"
   ]
  },
  {
   "cell_type": "markdown",
   "metadata": {},
   "source": [
    "## Instantiate TensorBoard Object\n",
    "The TensorBoard API is fairly simple as it just expects the model you would like to monitor, the logdir directory used to start TensorBoard, and optionally logging validation statistics. By default only `learning_rate`, `fit_error`, and `loss` are recorded."
   ]
  },
  {
   "cell_type": "code",
   "execution_count": null,
   "metadata": {},
   "outputs": [],
   "source": [
    "LOG_DIR = './data/'\n",
    "tensorboard = TensorBoard(model1, LOG_DIR, use_valid=True)"
   ]
  },
  {
   "cell_type": "markdown",
   "metadata": {},
   "source": [
    "## Train Model and View TensorBoard\n",
    "While the model trains you can track its progress in the TensorBoard window above in real-time. Each scalar metric contains its own graph. So, anytime you train a new model or want to change the training parameters for a model you can easily compare these different models as they will be shown on the same graph. Here we use the fit_tensorboard() method which provides the same functionality as fit() but includes tensorboard logging. "
   ]
  },
  {
   "cell_type": "code",
   "execution_count": null,
   "metadata": {
    "scrolled": true
   },
   "outputs": [],
   "source": [
    "solver = MomentumSolver(learning_rate=0.00001, clip_grad_max = 100, clip_grad_min = -100)\n",
    "optimizer = Optimizer(algorithm=solver, mini_batch_size=8, log_level=2, max_epochs=100, reg_l2=0.0005)\n",
    "model1.fit_tensorboard(data=train, valid_table=test, optimizer=optimizer, tensorboard=tensorboard)"
   ]
  },
  {
   "cell_type": "markdown",
   "metadata": {},
   "source": [
    "## Experiments\n",
    "Here we train two new model while also training our initial model for a few more epochs. One of the new models shares the same architecture as our original model but contains different training hyperparameter values while the other is an entirely different architecture. The idea is to show how you can more easily keep track of your experiments. You can filter out different models from within the TensorBoard window to organize the visualizations."
   ]
  },
  {
   "cell_type": "code",
   "execution_count": null,
   "metadata": {},
   "outputs": [],
   "source": [
    "solver = MomentumSolver(learning_rate=0.00001, clip_grad_max = 100, clip_grad_min = -100)\n",
    "optimizer = Optimizer(algorithm=solver, mini_batch_size=8, log_level=2, max_epochs=20, reg_l2=0.0005)\n",
    "model1.fit_tensorboard(data=train, valid_table=test, optimizer=optimizer, tensorboard=tensorboard)"
   ]
  },
  {
   "cell_type": "code",
   "execution_count": null,
   "metadata": {},
   "outputs": [],
   "source": [
    "model2 = Sequential(s, model_table='Simple_CNN2')\n",
    "model2.add(InputLayer(3, 224, 224))\n",
    "model2.add(Conv2d(8, 7))\n",
    "model2.add(Pooling(2))\n",
    "model2.add(Conv2d(8, 7))\n",
    "model2.add(Pooling(2))\n",
    "model2.add(Dense(16))\n",
    "model2.add(OutputLayer(act='softmax', n=2))"
   ]
  },
  {
   "cell_type": "code",
   "execution_count": null,
   "metadata": {
    "scrolled": true
   },
   "outputs": [],
   "source": [
    "tensorboard2 = TensorBoard(model2, LOG_DIR, use_valid=True)\n",
    "solver = MomentumSolver(learning_rate=0.003, clip_grad_max = 100, clip_grad_min = -100)\n",
    "optimizer = Optimizer(algorithm=solver, mini_batch_size=8, log_level=2, max_epochs=100, reg_l2=0.0005)\n",
    "model2.fit_tensorboard(data=train, valid_table=test, optimizer=optimizer, tensorboard=tensorboard2)"
   ]
  },
  {
   "cell_type": "code",
   "execution_count": null,
   "metadata": {},
   "outputs": [],
   "source": [
    "from dlpy.applications import InceptionV3\n",
    "\n",
    "model3 = InceptionV3(s, model_table='InceptionV3', n_classes=2, n_channels=3, width=224, height=224)"
   ]
  },
  {
   "cell_type": "code",
   "execution_count": null,
   "metadata": {},
   "outputs": [],
   "source": [
    "tensorboard3 = TensorBoard(model3, LOG_DIR, use_valid=True)\n",
    "solver = MomentumSolver(learning_rate=0.003, clip_grad_max = 100, clip_grad_min = -100)\n",
    "optimizer = Optimizer(algorithm=solver, mini_batch_size=8, log_level=2, max_epochs=25, reg_l2=0.0005)\n",
    "model3.fit_tensorboard(data=train, valid_table=test, optimizer=optimizer, tensorboard=tensorboard3)"
   ]
  },
  {
   "cell_type": "code",
   "execution_count": null,
   "metadata": {},
   "outputs": [],
   "source": []
  }
 ],
 "metadata": {
  "kernelspec": {
   "display_name": "Python 3",
   "language": "python",
   "name": "python3"
  },
  "language_info": {
   "codemirror_mode": {
    "name": "ipython",
    "version": 3
   },
   "file_extension": ".py",
   "mimetype": "text/x-python",
   "name": "python",
   "nbconvert_exporter": "python",
   "pygments_lexer": "ipython3",
   "version": "3.7.5"
  }
 },
 "nbformat": 4,
 "nbformat_minor": 2
}
