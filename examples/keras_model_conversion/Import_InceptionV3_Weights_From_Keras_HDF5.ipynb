{
 "cells": [
  {
   "cell_type": "markdown",
   "metadata": {},
   "source": [
    "# Import InceptionV3 Weights from Keras HDF5"
   ]
  },
  {
   "cell_type": "markdown",
   "metadata": {},
   "source": [
    "In this example we will show how to import InceptionV3 weights from a Keras HDF5 file"
   ]
  },
  {
   "cell_type": "code",
   "execution_count": 1,
   "metadata": {},
   "outputs": [],
   "source": [
    "import swat\n",
    "from dlpy import Model\n",
    "from dlpy.images import ImageTable\n",
    "from keras.applications import InceptionV3"
   ]
  },
  {
   "cell_type": "markdown",
   "metadata": {},
   "source": [
    "### Keras InceptionV3 Model"
   ]
  },
  {
   "cell_type": "code",
   "execution_count": 4,
   "metadata": {},
   "outputs": [],
   "source": [
    "model = InceptionV3(weights=None, input_shape=(299, 299, 3))"
   ]
  },
  {
   "cell_type": "markdown",
   "metadata": {},
   "source": [
    "### Start a CAS session"
   ]
  },
  {
   "cell_type": "code",
   "execution_count": 5,
   "metadata": {},
   "outputs": [],
   "source": [
    "s = swat.CAS(cashost, casport)"
   ]
  },
  {
   "cell_type": "markdown",
   "metadata": {},
   "source": [
    "### Convert Keras Model to DLPy Model, and Generate SAS Compatible h5 File  \n",
    "inception_v3_weights_tf_dim_ordering_tf_kernels.h5: pre-trained imagenet weights from Keras"
   ]
  },
  {
   "cell_type": "code",
   "execution_count": 6,
   "metadata": {
    "scrolled": false
   },
   "outputs": [
    {
     "name": "stdout",
     "output_type": "stream",
     "text": [
      "NOTE: Added action set 'deeplearn'.\n",
      "INFO: setting channel mean values to ImageNet means\n",
      "NOTE: Model table is attached successfully!\n",
      "NOTE: Model is named to \"inceptionv3\" according to the model name in the table.\n",
      "NOTE: the model weights has been stored in the following file:\n",
      "/disk/linux/dlpy/inceptionv3_weights.kerasmodel.h5\n"
     ]
    }
   ],
   "source": [
    "model_dlpy,use_gpu = Model.from_keras_model(conn=s, keras_model=model, output_model_table='inceptionv3',\n",
    "                                            include_weights=True, \n",
    "                                            input_weights_file='inception_v3_weights_tf_dim_ordering_tf_kernels.h5')"
   ]
  },
  {
   "cell_type": "markdown",
   "metadata": {},
   "source": [
    "### Load Weights From SAS Compatible h5 File"
   ]
  },
  {
   "cell_type": "code",
   "execution_count": 8,
   "metadata": {
    "scrolled": false
   },
   "outputs": [
    {
     "name": "stdout",
     "output_type": "stream",
     "text": [
      "NOTE: Model weights attached successfully!\n"
     ]
    }
   ],
   "source": [
    "model_dlpy.load_weights_from_keras(path='/data/weights/inceptionv3_weights.kerasmodel.h5')"
   ]
  }
 ],
 "metadata": {
  "kernelspec": {
   "display_name": "Python 3",
   "language": "python",
   "name": "python3"
  },
  "language_info": {
   "codemirror_mode": {
    "name": "ipython",
    "version": 3
   },
   "file_extension": ".py",
   "mimetype": "text/x-python",
   "name": "python",
   "nbconvert_exporter": "python",
   "pygments_lexer": "ipython3",
   "version": "3.6.5"
  }
 },
 "nbformat": 4,
 "nbformat_minor": 2
}
