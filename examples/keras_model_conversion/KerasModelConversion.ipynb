{
 "cells": [
  {
   "cell_type": "markdown",
   "metadata": {},
   "source": [
    "# Using SAS DLPy to Define and Convert Keras Models"
   ]
  },
  {
   "cell_type": "markdown",
   "metadata": {},
   "source": [
    "You can use SAS DLPy API to download and import a wide variety of pre-trained deep learning models. Access to a collection of pre-trained deep learning models is a good thing: pre-trained deep neural networks represent significant savings in compute and development time, and enhance developer productivity. \n",
    "\n",
    "Numerous Keras model libraries exist on the web (https://github.com/fchollet/keras-resources).\n",
    "\n",
    "The following example code uses SAS DLPy to create a Keras model to classify gray-scale images of handwritten numeric digits from the MNIST database. \n",
    "\n",
    "After creating the Keras MNIST image classification model, the example code uses DLPy utilities to convert the Keras model `model0` into a regular DLPy model `model1`.\n",
    "\n",
    "This example assumes that you have the SAS DLPy API installed, and have an active SAS CAS server."
   ]
  },
  {
   "cell_type": "code",
   "execution_count": 10,
   "metadata": {},
   "outputs": [],
   "source": [
    "%matplotlib inline"
   ]
  },
  {
   "cell_type": "markdown",
   "metadata": {},
   "source": [
    "### Configure CAS and Import SWAT"
   ]
  },
  {
   "cell_type": "markdown",
   "metadata": {},
   "source": [
    "The following code configures your CAS session for deep learning tasks. \n",
    "\n",
    "First, import SWAT. SWAT is a Python interface to SAS CAS that enables you to load data into memory and apply CAS actions to the data.\n",
    "\n",
    "<b>Note:</b> For more information about starting a CAS session with the SWAT package, see https://sassoftware.github.io/python-swat/getting-started.html."
   ]
  },
  {
   "cell_type": "code",
   "execution_count": 11,
   "metadata": {
    "scrolled": true
   },
   "outputs": [],
   "source": [
    "import swat\n",
    "sess = swat.CAS(cashost, casport)"
   ]
  },
  {
   "cell_type": "markdown",
   "metadata": {},
   "source": [
    "### Define a MNIST Classification Model in Keras"
   ]
  },
  {
   "cell_type": "markdown",
   "metadata": {},
   "source": [
    "The following example creates a Keras model that performs a MNIST classification task by identifying handwritten digits. The MNIST (Modified National Institute of Standards and Technology) database consists of images of handwritten digits. The MNIST database is an open-source database that is used to train various machine learning models."
   ]
  },
  {
   "cell_type": "code",
   "execution_count": 12,
   "metadata": {},
   "outputs": [],
   "source": [
    "import warnings\n",
    "warnings.simplefilter(action='ignore', category=FutureWarning)\n",
    "from keras.models import Sequential\n",
    "from keras.layers import *"
   ]
  },
  {
   "cell_type": "markdown",
   "metadata": {},
   "source": [
    "Now use Keras `Sequential()` to create a CNN network designed to classify images of MNIST digits. \n",
    "\n",
    "Begin with the input layer. Use `add()` to specify a 2-D convolutional input layer that has 32 nodes, a kernel_size of (5, 5), and a stride of (1, 1). The Conv2-D layer uses the `relu` activation function. Image padding should be the `same` for top, right, bottom, and left sides of images. *Note:* The SAS DLPy API currently supports only `same` image padding. The Keras input shape defines the input image channels. This training data for this model consists of monochrome images (1 channel) that are 28 pixels tall and 28 pixels wide. Keras defines this input shape as (28, 28, 1). The 2-D convolutional input layer is paired with a 2-D max pooling layer of size (2, 2), and stride of (2, 2). The max pooling layer also utilizes `same` image padding. Then the convolution and pooling combo is repeated (more filters in the second pair). After the convolution and pooling layers, two dense layer is added; one with 1,000 neurons and the last one with 10 which is the total number of classes in the dataset.\n",
    "\n",
    "The Keras code to create a sequential CNN model named `model0` with the architecture described above should resemble the following:"
   ]
  },
  {
   "cell_type": "code",
   "execution_count": 13,
   "metadata": {},
   "outputs": [],
   "source": [
    "model0 = Sequential()\n",
    "model0.add(Conv2D(32, kernel_size=(5, 5), strides=(1, 1),\n",
    "                 activation='relu',padding='same',\n",
    "                 input_shape=(28,28,1)))\n",
    "model0.add(MaxPooling2D(pool_size=(2, 2), padding='same', strides=(2, 2)))\n",
    "model0.add(Conv2D(64, (5, 5), padding='same', activation='relu'))\n",
    "model0.add(MaxPooling2D(pool_size=(2, 2), padding='same'))\n",
    "model0.add(Flatten())\n",
    "model0.add(Dense(1000, activation='relu'))\n",
    "model0.add(Dense(10, activation='softmax'))"
   ]
  },
  {
   "cell_type": "markdown",
   "metadata": {},
   "source": [
    "Use `summary()` to generate a table that describes the model layer types, output shapes, and number of parameters in `model0`: "
   ]
  },
  {
   "cell_type": "code",
   "execution_count": 14,
   "metadata": {},
   "outputs": [
    {
     "name": "stdout",
     "output_type": "stream",
     "text": [
      "_________________________________________________________________\n",
      "Layer (type)                 Output Shape              Param #   \n",
      "=================================================================\n",
      "conv2d_3 (Conv2D)            (None, 28, 28, 32)        832       \n",
      "_________________________________________________________________\n",
      "max_pooling2d_3 (MaxPooling2 (None, 14, 14, 32)        0         \n",
      "_________________________________________________________________\n",
      "conv2d_4 (Conv2D)            (None, 14, 14, 64)        51264     \n",
      "_________________________________________________________________\n",
      "max_pooling2d_4 (MaxPooling2 (None, 7, 7, 64)          0         \n",
      "_________________________________________________________________\n",
      "flatten_2 (Flatten)          (None, 3136)              0         \n",
      "_________________________________________________________________\n",
      "dense_3 (Dense)              (None, 1000)              3137000   \n",
      "_________________________________________________________________\n",
      "dense_4 (Dense)              (None, 10)                10010     \n",
      "=================================================================\n",
      "Total params: 3,199,106\n",
      "Trainable params: 3,199,106\n",
      "Non-trainable params: 0\n",
      "_________________________________________________________________\n"
     ]
    }
   ],
   "source": [
    "model0.summary()"
   ]
  },
  {
   "cell_type": "markdown",
   "metadata": {},
   "source": [
    "The Keras model `model0` has 7 layers and approximately 3.2 million parameters.\n",
    "\n"
   ]
  },
  {
   "cell_type": "markdown",
   "metadata": {},
   "source": [
    "### Convert Keras Model to DLPy Model"
   ]
  },
  {
   "cell_type": "markdown",
   "metadata": {},
   "source": [
    "Now convert the Keras model to a SAS DLPy model. Converting from a Keras model to a DLPy model enables all of the related DLPy deep learning model functions. Begin by importing the DLPy model class:"
   ]
  },
  {
   "cell_type": "code",
   "execution_count": 15,
   "metadata": {},
   "outputs": [],
   "source": [
    "from dlpy import Model"
   ]
  },
  {
   "cell_type": "markdown",
   "metadata": {},
   "source": [
    "Now create the DLPy model `model1` using `from_keras_model()` using Keras `model0`. The name assigned to the output_model_table variable is `converted_keras_model`."
   ]
  },
  {
   "cell_type": "code",
   "execution_count": 16,
   "metadata": {
    "scrolled": false
   },
   "outputs": [
    {
     "name": "stdout",
     "output_type": "stream",
     "text": [
      "NOTE: Added action set 'deeplearn'.\n",
      "NOTE: Model table is attached successfully!\n",
      "NOTE: Model is named to \"converted_keras_model\" according to the model name in the table.\n"
     ]
    }
   ],
   "source": [
    "model1,use_gpu = Model.from_keras_model(conn=sess, keras_model=model0, output_model_table='converted_keras_model')"
   ]
  },
  {
   "cell_type": "markdown",
   "metadata": {},
   "source": [
    "The DLPy model `model1` has been created from the Keras model `model0`. Now the DLPy model named `model1` can be used with all DLPy functions.\n",
    "\n",
    "Use `print_summary()` to generate a table that shows model architecture by layer type, kernel size, stride, activation function, output size, and number of parameters: "
   ]
  },
  {
   "cell_type": "code",
   "execution_count": 17,
   "metadata": {},
   "outputs": [
    {
     "data": {
      "text/html": [
       "<div>\n",
       "<style scoped>\n",
       "    .dataframe tbody tr th:only-of-type {\n",
       "        vertical-align: middle;\n",
       "    }\n",
       "\n",
       "    .dataframe tbody tr th {\n",
       "        vertical-align: top;\n",
       "    }\n",
       "\n",
       "    .dataframe thead th {\n",
       "        text-align: right;\n",
       "    }\n",
       "</style>\n",
       "<table border=\"1\" class=\"dataframe\">\n",
       "  <thead>\n",
       "    <tr style=\"text-align: right;\">\n",
       "      <th></th>\n",
       "      <th>Layer</th>\n",
       "      <th>Type</th>\n",
       "      <th>Kernel Size</th>\n",
       "      <th>Stride</th>\n",
       "      <th>Activation</th>\n",
       "      <th>Output Size</th>\n",
       "      <th>Number of Parameters</th>\n",
       "    </tr>\n",
       "  </thead>\n",
       "  <tbody>\n",
       "    <tr>\n",
       "      <th>0</th>\n",
       "      <td>conv2d_3_input</td>\n",
       "      <td>input</td>\n",
       "      <td>None</td>\n",
       "      <td>None</td>\n",
       "      <td>None</td>\n",
       "      <td>(28, 28, 1)</td>\n",
       "      <td>(0, 0)</td>\n",
       "    </tr>\n",
       "    <tr>\n",
       "      <th>1</th>\n",
       "      <td>conv2d_3</td>\n",
       "      <td>convo</td>\n",
       "      <td>(5, 5)</td>\n",
       "      <td>1</td>\n",
       "      <td>Rectifier</td>\n",
       "      <td>(28, 28, 32)</td>\n",
       "      <td>(800, 32)</td>\n",
       "    </tr>\n",
       "    <tr>\n",
       "      <th>2</th>\n",
       "      <td>max_pooling2d_3</td>\n",
       "      <td>pool</td>\n",
       "      <td>(2, 2)</td>\n",
       "      <td>2</td>\n",
       "      <td>Max</td>\n",
       "      <td>(14, 14, 32)</td>\n",
       "      <td>(0, 0)</td>\n",
       "    </tr>\n",
       "    <tr>\n",
       "      <th>3</th>\n",
       "      <td>conv2d_4</td>\n",
       "      <td>convo</td>\n",
       "      <td>(5, 5)</td>\n",
       "      <td>1</td>\n",
       "      <td>Rectifier</td>\n",
       "      <td>(14, 14, 64)</td>\n",
       "      <td>(51200, 64)</td>\n",
       "    </tr>\n",
       "    <tr>\n",
       "      <th>4</th>\n",
       "      <td>max_pooling2d_4</td>\n",
       "      <td>pool</td>\n",
       "      <td>(2, 2)</td>\n",
       "      <td>2</td>\n",
       "      <td>Max</td>\n",
       "      <td>(7, 7, 64)</td>\n",
       "      <td>(0, 0)</td>\n",
       "    </tr>\n",
       "    <tr>\n",
       "      <th>5</th>\n",
       "      <td>dense_3</td>\n",
       "      <td>fc</td>\n",
       "      <td>(3136, 1000)</td>\n",
       "      <td>None</td>\n",
       "      <td>Rectifier</td>\n",
       "      <td>1000</td>\n",
       "      <td>(3136000, 1000)</td>\n",
       "    </tr>\n",
       "    <tr>\n",
       "      <th>6</th>\n",
       "      <td>dense_4</td>\n",
       "      <td>output</td>\n",
       "      <td>(1000, 10)</td>\n",
       "      <td>None</td>\n",
       "      <td>Softmax</td>\n",
       "      <td>10</td>\n",
       "      <td>(10000, 10)</td>\n",
       "    </tr>\n",
       "    <tr>\n",
       "      <th>7</th>\n",
       "      <td></td>\n",
       "      <td></td>\n",
       "      <td></td>\n",
       "      <td></td>\n",
       "      <td></td>\n",
       "      <td></td>\n",
       "      <td>3199106</td>\n",
       "    </tr>\n",
       "  </tbody>\n",
       "</table>\n",
       "</div>"
      ],
      "text/plain": [
       "             Layer    Type   Kernel Size Stride Activation   Output Size  \\\n",
       "0   conv2d_3_input   input          None   None       None   (28, 28, 1)   \n",
       "1         conv2d_3   convo        (5, 5)      1  Rectifier  (28, 28, 32)   \n",
       "2  max_pooling2d_3    pool        (2, 2)      2        Max  (14, 14, 32)   \n",
       "3         conv2d_4   convo        (5, 5)      1  Rectifier  (14, 14, 64)   \n",
       "4  max_pooling2d_4    pool        (2, 2)      2        Max    (7, 7, 64)   \n",
       "5          dense_3      fc  (3136, 1000)   None  Rectifier          1000   \n",
       "6          dense_4  output    (1000, 10)   None    Softmax            10   \n",
       "7                                                                          \n",
       "\n",
       "  Number of Parameters  \n",
       "0               (0, 0)  \n",
       "1            (800, 32)  \n",
       "2               (0, 0)  \n",
       "3          (51200, 64)  \n",
       "4               (0, 0)  \n",
       "5      (3136000, 1000)  \n",
       "6          (10000, 10)  \n",
       "7              3199106  "
      ]
     },
     "metadata": {},
     "output_type": "display_data"
    }
   ],
   "source": [
    "model1.print_summary()"
   ]
  },
  {
   "cell_type": "markdown",
   "metadata": {},
   "source": [
    "Like the Keras model `model0`, the DLPy model `model1` contains the same number and sequence of layers, the same output layer shapes, and contains the same number (~3.2 million) of parameters. \n",
    "\n",
    "Use `plot_network()` to visualize a DAG diagram of the DLPy `model1` network made by converting the Keras `model0` network."
   ]
  },
  {
   "cell_type": "code",
   "execution_count": 18,
   "metadata": {},
   "outputs": [
    {
     "data": {
      "image/svg+xml": [
       "<?xml version=\"1.0\" encoding=\"UTF-8\" standalone=\"no\"?>\n",
       "<!DOCTYPE svg PUBLIC \"-//W3C//DTD SVG 1.1//EN\"\n",
       " \"http://www.w3.org/Graphics/SVG/1.1/DTD/svg11.dtd\">\n",
       "<!-- Generated by graphviz version 2.40.1 (20161225.0304)\n",
       " -->\n",
       "<!-- Title: converted_keras_model Pages: 1 -->\n",
       "<svg width=\"225pt\" height=\"451pt\"\n",
       " viewBox=\"0.00 0.00 225.00 451.00\" xmlns=\"http://www.w3.org/2000/svg\" xmlns:xlink=\"http://www.w3.org/1999/xlink\">\n",
       "<g id=\"graph0\" class=\"graph\" transform=\"scale(1 1) rotate(0) translate(4 447)\">\n",
       "<title>converted_keras_model</title>\n",
       "<polygon fill=\"#ffffff\" stroke=\"transparent\" points=\"-4,4 -4,-447 221,-447 221,4 -4,4\"/>\n",
       "<!-- conv2d_3_input -->\n",
       "<g id=\"node1\" class=\"node\">\n",
       "<title>conv2d_3_input</title>\n",
       "<polygon fill=\"#3288bd\" fill-opacity=\"0.250980\" stroke=\"#3288bd\" points=\"0,-420.5 0,-442.5 217,-442.5 217,-420.5 0,-420.5\"/>\n",
       "<text text-anchor=\"middle\" x=\"108.5\" y=\"-427.8\" font-family=\"Helvetica,sans-Serif\" font-size=\"14.00\" fill=\"#000000\">28x28x1 conv2d_3_input(input)</text>\n",
       "</g>\n",
       "<!-- conv2d_3 -->\n",
       "<g id=\"node2\" class=\"node\">\n",
       "<title>conv2d_3</title>\n",
       "<polygon fill=\"#fee08b\" fill-opacity=\"0.250980\" stroke=\"#b58c15\" points=\"29.5,-350.5 29.5,-372.5 187.5,-372.5 187.5,-350.5 29.5,-350.5\"/>\n",
       "<text text-anchor=\"middle\" x=\"108.5\" y=\"-357.8\" font-family=\"Helvetica,sans-Serif\" font-size=\"14.00\" fill=\"#000000\">5x5 conv2d_3(convo)</text>\n",
       "</g>\n",
       "<!-- conv2d_3_input&#45;&gt;conv2d_3 -->\n",
       "<g id=\"edge1\" class=\"edge\">\n",
       "<title>conv2d_3_input&#45;&gt;conv2d_3</title>\n",
       "<path fill=\"none\" stroke=\"#5677f3\" d=\"M108.5,-420.2533C108.5,-410.3113 108.5,-395.5277 108.5,-383.2776\"/>\n",
       "<polygon fill=\"#5677f3\" stroke=\"#5677f3\" points=\"112.0001,-382.9513 108.5,-372.9513 105.0001,-382.9514 112.0001,-382.9513\"/>\n",
       "<text text-anchor=\"middle\" x=\"136\" y=\"-394\" font-family=\"Helvetica,sans-Serif\" font-size=\"10.00\" fill=\"#000000\"> 28 x 28 x 1 </text>\n",
       "</g>\n",
       "<!-- max_pooling2d_3 -->\n",
       "<g id=\"node3\" class=\"node\">\n",
       "<title>max_pooling2d_3</title>\n",
       "<polygon fill=\"#66c2a5\" fill-opacity=\"0.250980\" stroke=\"#66c2a5\" points=\"10.5,-280.5 10.5,-302.5 206.5,-302.5 206.5,-280.5 10.5,-280.5\"/>\n",
       "<text text-anchor=\"middle\" x=\"108.5\" y=\"-287.8\" font-family=\"Helvetica,sans-Serif\" font-size=\"14.00\" fill=\"#000000\">2x2 max_pooling2d_3(pool)</text>\n",
       "</g>\n",
       "<!-- conv2d_3&#45;&gt;max_pooling2d_3 -->\n",
       "<g id=\"edge2\" class=\"edge\">\n",
       "<title>conv2d_3&#45;&gt;max_pooling2d_3</title>\n",
       "<path fill=\"none\" stroke=\"#5677f3\" d=\"M108.5,-350.2533C108.5,-340.3113 108.5,-325.5277 108.5,-313.2776\"/>\n",
       "<polygon fill=\"#5677f3\" stroke=\"#5677f3\" points=\"112.0001,-312.9513 108.5,-302.9513 105.0001,-312.9514 112.0001,-312.9513\"/>\n",
       "<text text-anchor=\"middle\" x=\"139\" y=\"-324\" font-family=\"Helvetica,sans-Serif\" font-size=\"10.00\" fill=\"#000000\"> 28 x 28 x 32 </text>\n",
       "</g>\n",
       "<!-- conv2d_4 -->\n",
       "<g id=\"node4\" class=\"node\">\n",
       "<title>conv2d_4</title>\n",
       "<polygon fill=\"#fee08b\" fill-opacity=\"0.250980\" stroke=\"#b58c15\" points=\"29.5,-210.5 29.5,-232.5 187.5,-232.5 187.5,-210.5 29.5,-210.5\"/>\n",
       "<text text-anchor=\"middle\" x=\"108.5\" y=\"-217.8\" font-family=\"Helvetica,sans-Serif\" font-size=\"14.00\" fill=\"#000000\">5x5 conv2d_4(convo)</text>\n",
       "</g>\n",
       "<!-- max_pooling2d_3&#45;&gt;conv2d_4 -->\n",
       "<g id=\"edge3\" class=\"edge\">\n",
       "<title>max_pooling2d_3&#45;&gt;conv2d_4</title>\n",
       "<path fill=\"none\" stroke=\"#5677f3\" d=\"M108.5,-280.2533C108.5,-270.3113 108.5,-255.5277 108.5,-243.2776\"/>\n",
       "<polygon fill=\"#5677f3\" stroke=\"#5677f3\" points=\"112.0001,-242.9513 108.5,-232.9513 105.0001,-242.9514 112.0001,-242.9513\"/>\n",
       "<text text-anchor=\"middle\" x=\"139\" y=\"-254\" font-family=\"Helvetica,sans-Serif\" font-size=\"10.00\" fill=\"#000000\"> 14 x 14 x 32 </text>\n",
       "</g>\n",
       "<!-- max_pooling2d_4 -->\n",
       "<g id=\"node5\" class=\"node\">\n",
       "<title>max_pooling2d_4</title>\n",
       "<polygon fill=\"#66c2a5\" fill-opacity=\"0.250980\" stroke=\"#66c2a5\" points=\"10.5,-140.5 10.5,-162.5 206.5,-162.5 206.5,-140.5 10.5,-140.5\"/>\n",
       "<text text-anchor=\"middle\" x=\"108.5\" y=\"-147.8\" font-family=\"Helvetica,sans-Serif\" font-size=\"14.00\" fill=\"#000000\">2x2 max_pooling2d_4(pool)</text>\n",
       "</g>\n",
       "<!-- conv2d_4&#45;&gt;max_pooling2d_4 -->\n",
       "<g id=\"edge4\" class=\"edge\">\n",
       "<title>conv2d_4&#45;&gt;max_pooling2d_4</title>\n",
       "<path fill=\"none\" stroke=\"#5677f3\" d=\"M108.5,-210.2533C108.5,-200.3113 108.5,-185.5277 108.5,-173.2776\"/>\n",
       "<polygon fill=\"#5677f3\" stroke=\"#5677f3\" points=\"112.0001,-172.9513 108.5,-162.9513 105.0001,-172.9514 112.0001,-172.9513\"/>\n",
       "<text text-anchor=\"middle\" x=\"139\" y=\"-184\" font-family=\"Helvetica,sans-Serif\" font-size=\"10.00\" fill=\"#000000\"> 14 x 14 x 64 </text>\n",
       "</g>\n",
       "<!-- dense_3 -->\n",
       "<g id=\"node6\" class=\"node\">\n",
       "<title>dense_3</title>\n",
       "<polygon fill=\"#ffffbf\" fill-opacity=\"0.250980\" stroke=\"#aeae82\" points=\"23.5,-70.5 23.5,-92.5 193.5,-92.5 193.5,-70.5 23.5,-70.5\"/>\n",
       "<text text-anchor=\"middle\" x=\"108.5\" y=\"-77.8\" font-family=\"Helvetica,sans-Serif\" font-size=\"14.00\" fill=\"#000000\">3136x1000 dense_3(fc)</text>\n",
       "</g>\n",
       "<!-- max_pooling2d_4&#45;&gt;dense_3 -->\n",
       "<g id=\"edge5\" class=\"edge\">\n",
       "<title>max_pooling2d_4&#45;&gt;dense_3</title>\n",
       "<path fill=\"none\" stroke=\"#5677f3\" d=\"M108.5,-140.2533C108.5,-130.3113 108.5,-115.5277 108.5,-103.2776\"/>\n",
       "<polygon fill=\"#5677f3\" stroke=\"#5677f3\" points=\"112.0001,-102.9513 108.5,-92.9513 105.0001,-102.9514 112.0001,-102.9513\"/>\n",
       "<text text-anchor=\"middle\" x=\"133.5\" y=\"-114\" font-family=\"Helvetica,sans-Serif\" font-size=\"10.00\" fill=\"#000000\"> 7 x 7 x 64 </text>\n",
       "</g>\n",
       "<!-- dense_4 -->\n",
       "<g id=\"node7\" class=\"node\">\n",
       "<title>dense_4</title>\n",
       "<polygon fill=\"#5e4fa2\" fill-opacity=\"0.125490\" stroke=\"#5e4fa2\" points=\"17.5,-.5 17.5,-22.5 199.5,-22.5 199.5,-.5 17.5,-.5\"/>\n",
       "<text text-anchor=\"middle\" x=\"108.5\" y=\"-7.8\" font-family=\"Helvetica,sans-Serif\" font-size=\"14.00\" fill=\"#000000\">1000x10 dense_4(output)</text>\n",
       "</g>\n",
       "<!-- dense_3&#45;&gt;dense_4 -->\n",
       "<g id=\"edge6\" class=\"edge\">\n",
       "<title>dense_3&#45;&gt;dense_4</title>\n",
       "<path fill=\"none\" stroke=\"#5677f3\" d=\"M108.5,-70.2533C108.5,-60.3113 108.5,-45.5277 108.5,-33.2776\"/>\n",
       "<polygon fill=\"#5677f3\" stroke=\"#5677f3\" points=\"112.0001,-32.9513 108.5,-22.9513 105.0001,-32.9514 112.0001,-32.9513\"/>\n",
       "<text text-anchor=\"middle\" x=\"122.5\" y=\"-44\" font-family=\"Helvetica,sans-Serif\" font-size=\"10.00\" fill=\"#000000\"> 1000 </text>\n",
       "</g>\n",
       "</g>\n",
       "</svg>\n"
      ],
      "text/plain": [
       "<graphviz.dot.Digraph at 0x7f052db44dd8>"
      ]
     },
     "execution_count": 18,
     "metadata": {},
     "output_type": "execute_result"
    }
   ],
   "source": [
    "model1.plot_network()"
   ]
  },
  {
   "cell_type": "code",
   "execution_count": null,
   "metadata": {},
   "outputs": [],
   "source": []
  }
 ],
 "metadata": {
  "anaconda-cloud": {},
  "kernelspec": {
   "display_name": "Python 3",
   "language": "python",
   "name": "python3"
  },
  "language_info": {
   "codemirror_mode": {
    "name": "ipython",
    "version": 3
   },
   "file_extension": ".py",
   "mimetype": "text/x-python",
   "name": "python",
   "nbconvert_exporter": "python",
   "pygments_lexer": "ipython3",
   "version": "3.6.7"
  }
 },
 "nbformat": 4,
 "nbformat_minor": 2
}
